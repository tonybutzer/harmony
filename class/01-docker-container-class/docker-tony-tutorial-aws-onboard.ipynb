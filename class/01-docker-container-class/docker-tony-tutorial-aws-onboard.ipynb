{
 "cells": [
  {
   "cell_type": "markdown",
   "id": "premium-humanity",
   "metadata": {},
   "source": [
    "![](https://d33wubrfki0l68.cloudfront.net/e7a6759eb6232b4280b83b18aa255289d65e4b6e/7698a/images/logo.webp)"
   ]
  },
  {
   "cell_type": "markdown",
   "id": "funky-letters",
   "metadata": {},
   "source": [
    "# A Gentle intro into Docker\n",
    "\n",
    "- talk about docker\n",
    "    - simple quick tutorial\n",
    "        - other tutorials - get your google/youtube on\n",
    "            - https://docker-curriculum.com/#introduction\n",
    "    - why docker\n",
    "        - just cause - it makes things so easy\n",
    "- create a docker image for aws pricing\n",
    "    - push it to dockerhub\n",
    "    - run it on another machine Steffi's\n",
    "- scaling\n",
    "    - simple scaling ET Mosiac example on a cheap machine\n",
    "    - orchestration for dummies"
   ]
  },
  {
   "cell_type": "markdown",
   "id": "armed-freight",
   "metadata": {},
   "source": [
    "# Why Docker?\n",
    "- containers scale\n",
    "    - python code then is simpler\n",
    "    - scaling is your DevOps team problem\n",
    "    - more liberation for the scientist\n",
    "- containers don't mess up your host computer\n",
    "- containers don't give a damn about your host linux distribution - ubuntu or centos - debian - slackware ... busybox, alpine - containers are containers where-ever they swim\n",
    "- containers help with python library management\n",
    "- containers are mitigate the need for virtual-env - because they are one\n",
    "- Learn to build and deploy your distributed applications easily to the cloud with Docker \n",
    "- \n",
    "\n",
    "# what is docker?\n",
    "\n",
    "- deployment paradigm\n",
    "- additional abstraction layer\n",
    "- automation enabler\n",
    "- hyper-virtualizer\n",
    "- library packaging god\n",
    "- low-overhead -speady system\n",
    "- cloud-enabled application method\n",
    "- the developers best friend\n",
    "- a tool to work the shit out of your host\n",
    "- want to be happy? - then simplify and decouple like crazy"
   ]
  },
  {
   "cell_type": "code",
   "execution_count": 2,
   "id": "included-actor",
   "metadata": {},
   "outputs": [
    {
     "name": "stdout",
     "output_type": "stream",
     "text": [
      "Docker version 19.03.13, build 4484c46d9d\r\n"
     ]
    }
   ],
   "source": [
    "! docker --version"
   ]
  },
  {
   "cell_type": "markdown",
   "id": "spiritual-guyana",
   "metadata": {},
   "source": [
    "# Lets get started using Docker"
   ]
  },
  {
   "cell_type": "code",
   "execution_count": 3,
   "id": "extraordinary-tennis",
   "metadata": {},
   "outputs": [
    {
     "name": "stdout",
     "output_type": "stream",
     "text": [
      "REPOSITORY          TAG                 IMAGE ID            CREATED             SIZE\r\n",
      "hello-world         latest              bf756fb1ae65        13 months ago       13.3kB\r\n"
     ]
    }
   ],
   "source": [
    "! docker image ls"
   ]
  },
  {
   "cell_type": "code",
   "execution_count": 4,
   "id": "looking-affair",
   "metadata": {},
   "outputs": [
    {
     "name": "stdout",
     "output_type": "stream",
     "text": [
      "Untagged: hello-world:latest\r\n",
      "Untagged: hello-world@sha256:31b9c7d48790f0d8c50ab433d9c3b7e17666d6993084c002c2ff1ca09b96391d\r\n",
      "Deleted: sha256:bf756fb1ae65adf866bd8c456593cd24beb6a0a061dedf42b26a993176745f6b\r\n",
      "Deleted: sha256:9c27e219663c25e0f28493790cc0b88bc973ba3b1686355f221c38a36978ac63\r\n"
     ]
    }
   ],
   "source": [
    "! docker rmi hello-world"
   ]
  },
  {
   "cell_type": "code",
   "execution_count": 5,
   "id": "designing-wrong",
   "metadata": {},
   "outputs": [
    {
     "name": "stdout",
     "output_type": "stream",
     "text": [
      "REPOSITORY          TAG                 IMAGE ID            CREATED             SIZE\r\n"
     ]
    }
   ],
   "source": [
    "! docker image ls"
   ]
  },
  {
   "cell_type": "code",
   "execution_count": 6,
   "id": "greenhouse-swift",
   "metadata": {},
   "outputs": [
    {
     "name": "stdout",
     "output_type": "stream",
     "text": [
      "Unable to find image 'hello-world:latest' locally\n",
      "latest: Pulling from library/hello-world\n",
      "\n",
      "\u001b[1BDigest: sha256:31b9c7d48790f0d8c50ab433d9c3b7e17666d6993084c002c2ff1ca09b96391d\n",
      "Status: Downloaded newer image for hello-world:latest\n",
      "\n",
      "Hello from Docker!\n",
      "This message shows that your installation appears to be working correctly.\n",
      "\n",
      "To generate this message, Docker took the following steps:\n",
      " 1. The Docker client contacted the Docker daemon.\n",
      " 2. The Docker daemon pulled the \"hello-world\" image from the Docker Hub.\n",
      "    (amd64)\n",
      " 3. The Docker daemon created a new container from that image which runs the\n",
      "    executable that produces the output you are currently reading.\n",
      " 4. The Docker daemon streamed that output to the Docker client, which sent it\n",
      "    to your terminal.\n",
      "\n",
      "To try something more ambitious, you can run an Ubuntu container with:\n",
      " $ docker run -it ubuntu bash\n",
      "\n",
      "Share images, automate workflows, and more with a free Docker ID:\n",
      " https://hub.docker.com/\n",
      "\n",
      "For more examples and ideas, visit:\n",
      " https://docs.docker.com/get-started/\n",
      "\n"
     ]
    }
   ],
   "source": [
    "! docker run hello-world"
   ]
  },
  {
   "cell_type": "code",
   "execution_count": 7,
   "id": "present-sharing",
   "metadata": {},
   "outputs": [
    {
     "name": "stdout",
     "output_type": "stream",
     "text": [
      "Unable to find image 'ubuntu:latest' locally\n",
      "latest: Pulling from library/ubuntu\n",
      "\n",
      "\u001b[1B3a23efb7: Pulling fs layer \n",
      "\u001b[1Bfc6f11f0: Pulling fs layer \n",
      "\u001b[1BDigest: sha256:703218c0465075f4425e58fac086e09e1de5c340b12976ab9eb8ad26615c3715\u001b[2K\u001b[3A\u001b[2K\u001b[3A\u001b[2K\u001b[3A\u001b[2K\u001b[3A\u001b[2K\u001b[3A\u001b[2K\u001b[2A\u001b[2K\u001b[3A\u001b[2K\u001b[3A\u001b[2K\u001b[3A\u001b[2K\u001b[3A\u001b[2K\u001b[3A\u001b[2K\u001b[3A\u001b[2K\u001b[2A\u001b[2K\u001b[1A\u001b[2K\n",
      "Status: Downloaded newer image for ubuntu:latest\n",
      "DISTRIB_ID=Ubuntu\n",
      "DISTRIB_RELEASE=20.04\n",
      "DISTRIB_CODENAME=focal\n",
      "DISTRIB_DESCRIPTION=\"Ubuntu 20.04.1 LTS\"\n"
     ]
    }
   ],
   "source": [
    "! docker run -it ubuntu cat /etc/lsb-release"
   ]
  },
  {
   "cell_type": "code",
   "execution_count": 8,
   "id": "interior-lesson",
   "metadata": {},
   "outputs": [
    {
     "name": "stdout",
     "output_type": "stream",
     "text": [
      "REPOSITORY          TAG                 IMAGE ID            CREATED             SIZE\r\n",
      "ubuntu              latest              f63181f19b2f        2 weeks ago         72.9MB\r\n",
      "hello-world         latest              bf756fb1ae65        13 months ago       13.3kB\r\n"
     ]
    }
   ],
   "source": [
    "! docker image ls"
   ]
  },
  {
   "cell_type": "code",
   "execution_count": 9,
   "id": "likely-sleeve",
   "metadata": {},
   "outputs": [
    {
     "name": "stdout",
     "output_type": "stream",
     "text": [
      "Error response from daemon: conflict: unable to remove repository reference \"ubuntu\" (must force) - container 091643cf9577 is using its referenced image f63181f19b2f\r\n",
      "Error response from daemon: conflict: unable to remove repository reference \"hello-world\" (must force) - container caf38c3f8c91 is using its referenced image bf756fb1ae65\r\n"
     ]
    }
   ],
   "source": [
    "! docker rmi ubuntu hello-world"
   ]
  },
  {
   "cell_type": "code",
   "execution_count": 10,
   "id": "mature-diameter",
   "metadata": {},
   "outputs": [
    {
     "name": "stdout",
     "output_type": "stream",
     "text": [
      "CONTAINER ID        IMAGE               COMMAND                  CREATED              STATUS                          PORTS               NAMES\r\n",
      "091643cf9577        ubuntu              \"cat /etc/lsb-release\"   44 seconds ago       Exited (0) 43 seconds ago                           cranky_darwin\r\n",
      "caf38c3f8c91        hello-world         \"/hello\"                 About a minute ago   Exited (0) About a minute ago                       quirky_mclean\r\n"
     ]
    }
   ],
   "source": [
    "! docker ps -a"
   ]
  },
  {
   "cell_type": "code",
   "execution_count": 11,
   "id": "joined-campbell",
   "metadata": {},
   "outputs": [
    {
     "name": "stdout",
     "output_type": "stream",
     "text": [
      "cranky_darwin\r\n",
      "quirky_mclean\r\n"
     ]
    }
   ],
   "source": [
    "! docker rm cranky_darwin quirky_mclean"
   ]
  },
  {
   "cell_type": "code",
   "execution_count": 12,
   "id": "blond-warehouse",
   "metadata": {},
   "outputs": [
    {
     "name": "stdout",
     "output_type": "stream",
     "text": [
      "CONTAINER ID        IMAGE               COMMAND             CREATED             STATUS              PORTS               NAMES\r\n"
     ]
    }
   ],
   "source": [
    "! docker ps -a"
   ]
  },
  {
   "cell_type": "code",
   "execution_count": 13,
   "id": "regulated-parade",
   "metadata": {},
   "outputs": [
    {
     "name": "stdout",
     "output_type": "stream",
     "text": [
      "REPOSITORY          TAG                 IMAGE ID            CREATED             SIZE\r\n",
      "ubuntu              latest              f63181f19b2f        2 weeks ago         72.9MB\r\n",
      "hello-world         latest              bf756fb1ae65        13 months ago       13.3kB\r\n"
     ]
    }
   ],
   "source": [
    "! docker image ls"
   ]
  },
  {
   "cell_type": "code",
   "execution_count": 14,
   "id": "underlying-conviction",
   "metadata": {},
   "outputs": [
    {
     "name": "stdout",
     "output_type": "stream",
     "text": [
      "Untagged: ubuntu:latest\r\n",
      "Untagged: ubuntu@sha256:703218c0465075f4425e58fac086e09e1de5c340b12976ab9eb8ad26615c3715\r\n",
      "Deleted: sha256:f63181f19b2fe819156dcb068b3b5bc036820bec7014c5f77277cfa341d4cb5e\r\n",
      "Deleted: sha256:0770b7f116f8627ec336a62e65a1f79e344df7ae721eb3e06e11edca85d3d1e7\r\n",
      "Deleted: sha256:476e931831a5b24b95ff7587cca09bde9d1d7c0329fbc44ac64793b28fb809d0\r\n",
      "Deleted: sha256:9f32931c9d28f10104a8eb1330954ba90e76d92b02c5256521ba864feec14009\r\n",
      "Untagged: hello-world:latest\r\n",
      "Untagged: hello-world@sha256:31b9c7d48790f0d8c50ab433d9c3b7e17666d6993084c002c2ff1ca09b96391d\r\n",
      "Deleted: sha256:bf756fb1ae65adf866bd8c456593cd24beb6a0a061dedf42b26a993176745f6b\r\n",
      "Deleted: sha256:9c27e219663c25e0f28493790cc0b88bc973ba3b1686355f221c38a36978ac63\r\n"
     ]
    }
   ],
   "source": [
    "! docker rmi ubuntu hello-world"
   ]
  },
  {
   "cell_type": "code",
   "execution_count": 15,
   "id": "referenced-ambassador",
   "metadata": {},
   "outputs": [
    {
     "name": "stdout",
     "output_type": "stream",
     "text": [
      "REPOSITORY          TAG                 IMAGE ID            CREATED             SIZE\r\n"
     ]
    }
   ],
   "source": [
    "! docker image ls"
   ]
  },
  {
   "cell_type": "code",
   "execution_count": 17,
   "id": "extra-dodge",
   "metadata": {},
   "outputs": [
    {
     "name": "stdout",
     "output_type": "stream",
     "text": [
      "Unable to find image 'ubuntu:18.04' locally\n",
      "18.04: Pulling from library/ubuntu\n",
      "\n",
      "\u001b[1Be2592276: Pulling fs layer \n",
      "\u001b[1B2dfcfa9c: Pulling fs layer \n",
      "\u001b[1BDigest: sha256:ea188fdc5be9b25ca048f1e882b33f1bc763fb976a8a4fea446b38ed0efcbeba\u001b[2K\u001b[3A\u001b[2K\u001b[3A\u001b[2K\u001b[3A\u001b[2K\u001b[3A\u001b[2K\u001b[3A\u001b[2K\u001b[3A\u001b[2K\u001b[3A\u001b[2K\u001b[3A\u001b[2K\u001b[3A\u001b[2K\u001b[3A\u001b[2K\u001b[3A\u001b[2K\u001b[2A\u001b[2K\u001b[1A\u001b[2K\n",
      "Status: Downloaded newer image for ubuntu:18.04\n",
      "DISTRIB_ID=Ubuntu\n",
      "DISTRIB_RELEASE=18.04\n",
      "DISTRIB_CODENAME=bionic\n",
      "DISTRIB_DESCRIPTION=\"Ubuntu 18.04.5 LTS\"\n"
     ]
    }
   ],
   "source": [
    "! docker run -it --rm ubuntu:18.04 cat /etc/lsb-release"
   ]
  },
  {
   "cell_type": "code",
   "execution_count": 18,
   "id": "different-mills",
   "metadata": {},
   "outputs": [
    {
     "name": "stdout",
     "output_type": "stream",
     "text": [
      "REPOSITORY          TAG                 IMAGE ID            CREATED             SIZE\r\n",
      "ubuntu              18.04               c090eaba6b94        2 weeks ago         63.3MB\r\n"
     ]
    }
   ],
   "source": [
    "! docker image ls "
   ]
  },
  {
   "cell_type": "code",
   "execution_count": 20,
   "id": "animal-words",
   "metadata": {},
   "outputs": [
    {
     "name": "stdout",
     "output_type": "stream",
     "text": [
      "CONTAINER ID        IMAGE               COMMAND             CREATED             STATUS              PORTS               NAMES\n",
      "Untagged: ubuntu:18.04\n",
      "Untagged: ubuntu@sha256:ea188fdc5be9b25ca048f1e882b33f1bc763fb976a8a4fea446b38ed0efcbeba\n",
      "Deleted: sha256:c090eaba6b9480dcd1daf063e4efe271711745c21a73c53bdc94c8d9610d2fd9\n",
      "Deleted: sha256:01f5d9ceb371655b21dfbd164d01f3ef407d01f01b60bae022262e31488e9bc5\n",
      "Deleted: sha256:9098c7bd6ce80e8d6d53cab2ef32320aa462790b444d95424a95b1ee9a622821\n",
      "Deleted: sha256:c95d2191d7773c6e29188f92922bc9547e1f0b6130e85dfc2f5e4eae13137c7c\n"
     ]
    }
   ],
   "source": [
    "! docker ps -a ; docker rmi ubuntu:18.04"
   ]
  },
  {
   "cell_type": "code",
   "execution_count": 21,
   "id": "robust-omaha",
   "metadata": {},
   "outputs": [
    {
     "name": "stdout",
     "output_type": "stream",
     "text": [
      "REPOSITORY          TAG                 IMAGE ID            CREATED             SIZE\r\n"
     ]
    }
   ],
   "source": [
    "! docker image ls"
   ]
  },
  {
   "cell_type": "code",
   "execution_count": 22,
   "id": "quiet-grove",
   "metadata": {},
   "outputs": [
    {
     "name": "stdout",
     "output_type": "stream",
     "text": [
      "Unable to find image 'python:latest' locally\n",
      "latest: Pulling from library/python\n",
      "\n",
      "\u001b[1B57cbf04d: Pulling fs layer \n",
      "\u001b[1Bee20540b: Pulling fs layer \n",
      "\u001b[1Ba4f00c2e: Pulling fs layer \n",
      "\u001b[1Bd949ed93: Pulling fs layer \n",
      "\u001b[1B6e8a18e5: Pulling fs layer \n",
      "\u001b[1Bea9d4031: Pulling fs layer \n",
      "\u001b[1Bd8441f11: Pulling fs layer \n",
      "\u001b[1B8153e894: Pulling fs layer \n",
      "\u001b[1BDigest: sha256:57b76e2242d1122e127071e4c35f47f9348b25087a752fec0f1ba2207b66b115[7A\u001b[2K\u001b[8A\u001b[2K\u001b[9A\u001b[2K\u001b[8A\u001b[2K\u001b[9A\u001b[2K\u001b[9A\u001b[2K\u001b[8A\u001b[2K\u001b[9A\u001b[2K\u001b[9A\u001b[2K\u001b[9A\u001b[2K\u001b[9A\u001b[2K\u001b[9A\u001b[2K\u001b[9A\u001b[2K\u001b[9A\u001b[2K\u001b[4A\u001b[2K\u001b[4A\u001b[2K\u001b[4A\u001b[2K\u001b[9A\u001b[2K\u001b[6A\u001b[2K\u001b[9A\u001b[2K\u001b[6A\u001b[2K\u001b[9A\u001b[2K\u001b[6A\u001b[2K\u001b[9A\u001b[2K\u001b[6A\u001b[2K\u001b[6A\u001b[2K\u001b[3A\u001b[2K\u001b[5A\u001b[2K\u001b[3A\u001b[2K\u001b[5A\u001b[2K\u001b[3A\u001b[2K\u001b[5A\u001b[2K\u001b[3A\u001b[2K\u001b[6A\u001b[2K\u001b[9A\u001b[2K\u001b[8A\u001b[2K\u001b[5A\u001b[2K\u001b[8A\u001b[2K\u001b[8A\u001b[2K\u001b[8A\u001b[2K\u001b[5A\u001b[2K\u001b[7A\u001b[2K\u001b[5A\u001b[2K\u001b[6A\u001b[2K\u001b[7A\u001b[2K\u001b[6A\u001b[2K\u001b[6A\u001b[2K\u001b[6A\u001b[2K\u001b[5A\u001b[2K\u001b[6A\u001b[2K\u001b[5A\u001b[2K\u001b[1A\u001b[2K\u001b[5A\u001b[2K\u001b[1A\u001b[2K\u001b[5A\u001b[2K\u001b[6A\u001b[2K\u001b[5A\u001b[2K\u001b[5A\u001b[2K\u001b[6A\u001b[2K\u001b[5A\u001b[2K\u001b[6A\u001b[2K\u001b[5A\u001b[2K\u001b[6A\u001b[2K\u001b[5A\u001b[2K\u001b[6A\u001b[2K\u001b[5A\u001b[2K\u001b[6A\u001b[2K\u001b[6A\u001b[2K\u001b[6A\u001b[2K\u001b[5A\u001b[2K\u001b[6A\u001b[2K\u001b[6A\u001b[2K\u001b[5A\u001b[2K\u001b[6A\u001b[2K\u001b[6A\u001b[2K\u001b[6A\u001b[2K\u001b[5A\u001b[2K\u001b[5A\u001b[2K\u001b[5A\u001b[2K\u001b[5A\u001b[2K\u001b[5A\u001b[2K\u001b[5A\u001b[2K\u001b[5A\u001b[2K\u001b[5A\u001b[2K\u001b[5A\u001b[2K\u001b[5A\u001b[2K\u001b[5A\u001b[2K\u001b[5A\u001b[2K\u001b[5A\u001b[2K\u001b[5A\u001b[2K\u001b[5A\u001b[2K\u001b[5A\u001b[2K\u001b[5A\u001b[2K\u001b[5A\u001b[2K\u001b[5A\u001b[2K\u001b[5A\u001b[2K\u001b[5A\u001b[2K\u001b[5A\u001b[2K\u001b[5A\u001b[2K\u001b[5A\u001b[2K\u001b[5A\u001b[2K\u001b[5A\u001b[2K\u001b[5A\u001b[2K\u001b[5A\u001b[2K\u001b[5A\u001b[2K\u001b[5A\u001b[2K\u001b[5A\u001b[2K\u001b[5A\u001b[2K\u001b[5A\u001b[2K\u001b[5A\u001b[2K\u001b[5A\u001b[2K\u001b[5A\u001b[2K\u001b[5A\u001b[2K\u001b[5A\u001b[2K\u001b[5A\u001b[2K\u001b[5A\u001b[2K\u001b[5A\u001b[2K\u001b[5A\u001b[2K\u001b[5A\u001b[2K\u001b[5A\u001b[2K\u001b[5A\u001b[2K\u001b[5A\u001b[2K\u001b[5A\u001b[2K\u001b[5A\u001b[2K\u001b[5A\u001b[2K\u001b[5A\u001b[2K\u001b[5A\u001b[2K\u001b[5A\u001b[2K\u001b[5A\u001b[2K\u001b[5A\u001b[2K\u001b[5A\u001b[2K\u001b[5A\u001b[2K\u001b[5A\u001b[2K\u001b[5A\u001b[2K\u001b[5A\u001b[2K\u001b[4A\u001b[2K\u001b[4A\u001b[2K\u001b[4A\u001b[2K\u001b[4A\u001b[2K\u001b[3A\u001b[2K\u001b[3A\u001b[2K\u001b[3A\u001b[2K\u001b[3A\u001b[2K\u001b[3A\u001b[2K\u001b[3A\u001b[2K\u001b[3A\u001b[2K\u001b[2A\u001b[2K\u001b[1A\u001b[2K\u001b[1A\u001b[2K\u001b[1A\u001b[2K\n",
      "Status: Downloaded newer image for python:latest\n",
      "Package    Version\n",
      "---------- -------\n",
      "pip        21.0.1\n",
      "setuptools 53.0.0\n",
      "wheel      0.36.2\n"
     ]
    }
   ],
   "source": [
    "! docker run -it --rm python pip list "
   ]
  },
  {
   "cell_type": "code",
   "execution_count": 24,
   "id": "phantom-limit",
   "metadata": {},
   "outputs": [
    {
     "name": "stdout",
     "output_type": "stream",
     "text": [
      "Python 3.9.1\r\n"
     ]
    }
   ],
   "source": [
    "! docker run -it --rm python python --version"
   ]
  },
  {
   "cell_type": "code",
   "execution_count": 25,
   "id": "further-campbell",
   "metadata": {},
   "outputs": [
    {
     "name": "stdout",
     "output_type": "stream",
     "text": [
      "REPOSITORY          TAG                 IMAGE ID            CREATED             SIZE\r\n",
      "python              latest              e32be9a6f71f        4 days ago          885MB\r\n"
     ]
    }
   ],
   "source": [
    "! docker image ls"
   ]
  },
  {
   "cell_type": "code",
   "execution_count": 26,
   "id": "possible-magnitude",
   "metadata": {},
   "outputs": [
    {
     "name": "stdout",
     "output_type": "stream",
     "text": [
      "Untagged: python:latest\r\n",
      "Untagged: python@sha256:57b76e2242d1122e127071e4c35f47f9348b25087a752fec0f1ba2207b66b115\r\n",
      "Deleted: sha256:e32be9a6f71fb552055421fdeebbd6e4075055865d26f7d362cb7a24dd46d735\r\n",
      "Deleted: sha256:fc56f98e02d7e12f1079aed11622efa1524896ebb6451eddcaa812b9f9cec082\r\n",
      "Deleted: sha256:6b7364f32903e55355bc019f1feb1e25c287173be7c2d1906dd8b59659f00634\r\n",
      "Deleted: sha256:fe7a3122b9306fd1c9490363b4c48b37e8b2311d04e01f19a1851a760de4ad6b\r\n",
      "Deleted: sha256:ff13f92838a02fe53bf0e5dc96dcea8a22c243e432d89e1e9f4a27115ab796c5\r\n",
      "Deleted: sha256:086e77e2bc0cbe440692912cac26f42e9854d712b9b211f3669998a80848f5e3\r\n",
      "Deleted: sha256:03b0292dbc6978fe1077f948ac07472a8cac23fb4c3cf92c76f5eb62891e3d5a\r\n",
      "Deleted: sha256:19f2a825ed46bbf16a06d9d5185a0ac68196217f302e760abb4cbc3178b14cc1\r\n",
      "Deleted: sha256:b4f0436e967b6b9b021d3ed900a5422da6d8fe8c17c51c7d7e4f9c105812f868\r\n",
      "Deleted: sha256:4762552ad7d851a9901571428078281985074e5ddb806979dd7ad24748db4ca0\r\n"
     ]
    }
   ],
   "source": [
    "! docker rmi python"
   ]
  },
  {
   "cell_type": "code",
   "execution_count": null,
   "id": "smaller-scratch",
   "metadata": {},
   "outputs": [],
   "source": []
  }
 ],
 "metadata": {
  "kernelspec": {
   "display_name": "Python 3",
   "language": "python",
   "name": "python3"
  },
  "language_info": {
   "codemirror_mode": {
    "name": "ipython",
    "version": 3
   },
   "file_extension": ".py",
   "mimetype": "text/x-python",
   "name": "python",
   "nbconvert_exporter": "python",
   "pygments_lexer": "ipython3",
   "version": "3.6.9"
  }
 },
 "nbformat": 4,
 "nbformat_minor": 5
}
