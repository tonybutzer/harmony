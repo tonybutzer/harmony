{
 "cells": [
  {
   "cell_type": "markdown",
   "metadata": {},
   "source": [
    "# References\n",
    "- https://kontext.tech/column/code-snippets/402/pandas-dataframe-plot-pie-chart\n",
    "- https://medium.com/dunder-data/selecting-subsets-of-data-in-pandas-6fcd0170be9c\n",
    "- https://data36.com/pandas-tutorial-2-aggregation-and-grouping/"
   ]
  },
  {
   "cell_type": "code",
   "execution_count": 1,
   "metadata": {},
   "outputs": [],
   "source": [
    "import pandas as pd"
   ]
  },
  {
   "cell_type": "code",
   "execution_count": 2,
   "metadata": {},
   "outputs": [],
   "source": [
    "df = pd.read_csv(\"students.csv\")"
   ]
  },
  {
   "cell_type": "code",
   "execution_count": 3,
   "metadata": {},
   "outputs": [
    {
     "data": {
      "text/html": [
       "<div>\n",
       "<style scoped>\n",
       "    .dataframe tbody tr th:only-of-type {\n",
       "        vertical-align: middle;\n",
       "    }\n",
       "\n",
       "    .dataframe tbody tr th {\n",
       "        vertical-align: top;\n",
       "    }\n",
       "\n",
       "    .dataframe thead th {\n",
       "        text-align: right;\n",
       "    }\n",
       "</style>\n",
       "<table border=\"1\" class=\"dataframe\">\n",
       "  <thead>\n",
       "    <tr style=\"text-align: right;\">\n",
       "      <th></th>\n",
       "      <th>lastname</th>\n",
       "      <th>firstname</th>\n",
       "      <th>boss</th>\n",
       "      <th>division</th>\n",
       "    </tr>\n",
       "  </thead>\n",
       "  <tbody>\n",
       "    <tr>\n",
       "      <td>0</td>\n",
       "      <td>Pastick</td>\n",
       "      <td>Neal (Contractor) J</td>\n",
       "      <td>Danny (Contractor) Howard</td>\n",
       "      <td>Science Division</td>\n",
       "    </tr>\n",
       "    <tr>\n",
       "      <td>1</td>\n",
       "      <td>Postma</td>\n",
       "      <td>Kory (Contractor)</td>\n",
       "      <td>Jayson (Contractor) Holter</td>\n",
       "      <td>Satellite Ground System Division</td>\n",
       "    </tr>\n",
       "    <tr>\n",
       "      <td>2</td>\n",
       "      <td>Bunde</td>\n",
       "      <td>Brett (Contractor)</td>\n",
       "      <td>Danny (Contractor) Howard</td>\n",
       "      <td>Science Division</td>\n",
       "    </tr>\n",
       "    <tr>\n",
       "      <td>3</td>\n",
       "      <td>Danielson</td>\n",
       "      <td>Patrick (Contractor)</td>\n",
       "      <td>Danny (Contractor) Howard</td>\n",
       "      <td>Science Division</td>\n",
       "    </tr>\n",
       "    <tr>\n",
       "      <td>4</td>\n",
       "      <td>Butzer</td>\n",
       "      <td>Tony (Contractor)</td>\n",
       "      <td>Cory (Contractor) Van Batavia</td>\n",
       "      <td>Satellite Ground System Division</td>\n",
       "    </tr>\n",
       "    <tr>\n",
       "      <td>5</td>\n",
       "      <td>Dahal</td>\n",
       "      <td>Devendra (Contractor)</td>\n",
       "      <td>Danny (Contractor) Howard</td>\n",
       "      <td>Science Division</td>\n",
       "    </tr>\n",
       "    <tr>\n",
       "      <td>6</td>\n",
       "      <td>Wylie</td>\n",
       "      <td>Bruce K</td>\n",
       "      <td>Kristi Sayler</td>\n",
       "      <td>Integrated Science &amp; Applications Branch</td>\n",
       "    </tr>\n",
       "    <tr>\n",
       "      <td>7</td>\n",
       "      <td>Rover</td>\n",
       "      <td>Jennifer</td>\n",
       "      <td>Peter Doucette</td>\n",
       "      <td>Integrated Science &amp; Applications Branch</td>\n",
       "    </tr>\n",
       "    <tr>\n",
       "      <td>8</td>\n",
       "      <td>Zhou</td>\n",
       "      <td>Qiang (Contractor)</td>\n",
       "      <td>Ramesh (Contractor) Singh</td>\n",
       "      <td>Science Division</td>\n",
       "    </tr>\n",
       "    <tr>\n",
       "      <td>9</td>\n",
       "      <td>Rigge</td>\n",
       "      <td>Matthew B</td>\n",
       "      <td>Kristi Sayler</td>\n",
       "      <td>Integrated Science &amp; Applications Branch</td>\n",
       "    </tr>\n",
       "    <tr>\n",
       "      <td>10</td>\n",
       "      <td>Boyte</td>\n",
       "      <td>Stephen</td>\n",
       "      <td>Kristi Sayler</td>\n",
       "      <td>Integrated Science &amp; Applications Branch</td>\n",
       "    </tr>\n",
       "    <tr>\n",
       "      <td>11</td>\n",
       "      <td>Smith</td>\n",
       "      <td>Kelcy (Contractor) L</td>\n",
       "      <td>Ryan (Contractor) Reker</td>\n",
       "      <td>Science Division</td>\n",
       "    </tr>\n",
       "    <tr>\n",
       "      <td>12</td>\n",
       "      <td>Anthony</td>\n",
       "      <td>Michelle (Contractor) L</td>\n",
       "      <td>Calli (Contractor) Jenkerson</td>\n",
       "      <td>Science Division</td>\n",
       "    </tr>\n",
       "  </tbody>\n",
       "</table>\n",
       "</div>"
      ],
      "text/plain": [
       "     lastname                 firstname                            boss  \\\n",
       "0     Pastick       Neal (Contractor) J       Danny (Contractor) Howard   \n",
       "1      Postma         Kory (Contractor)      Jayson (Contractor) Holter   \n",
       "2       Bunde        Brett (Contractor)       Danny (Contractor) Howard   \n",
       "3   Danielson      Patrick (Contractor)       Danny (Contractor) Howard   \n",
       "4      Butzer         Tony (Contractor)   Cory (Contractor) Van Batavia   \n",
       "5       Dahal     Devendra (Contractor)       Danny (Contractor) Howard   \n",
       "6       Wylie                   Bruce K                   Kristi Sayler   \n",
       "7       Rover                  Jennifer                  Peter Doucette   \n",
       "8        Zhou        Qiang (Contractor)       Ramesh (Contractor) Singh   \n",
       "9       Rigge                 Matthew B                   Kristi Sayler   \n",
       "10      Boyte                   Stephen                   Kristi Sayler   \n",
       "11      Smith      Kelcy (Contractor) L         Ryan (Contractor) Reker   \n",
       "12    Anthony   Michelle (Contractor) L    Calli (Contractor) Jenkerson   \n",
       "\n",
       "                                     division  \n",
       "0                            Science Division  \n",
       "1            Satellite Ground System Division  \n",
       "2                            Science Division  \n",
       "3                            Science Division  \n",
       "4            Satellite Ground System Division  \n",
       "5                            Science Division  \n",
       "6    Integrated Science & Applications Branch  \n",
       "7    Integrated Science & Applications Branch  \n",
       "8                            Science Division  \n",
       "9    Integrated Science & Applications Branch  \n",
       "10   Integrated Science & Applications Branch  \n",
       "11                           Science Division  \n",
       "12                           Science Division  "
      ]
     },
     "execution_count": 3,
     "metadata": {},
     "output_type": "execute_result"
    }
   ],
   "source": [
    "df"
   ]
  },
  {
   "cell_type": "markdown",
   "metadata": {},
   "source": [
    "# Groupby division"
   ]
  },
  {
   "cell_type": "code",
   "execution_count": 4,
   "metadata": {},
   "outputs": [],
   "source": [
    "students=df"
   ]
  },
  {
   "cell_type": "code",
   "execution_count": 8,
   "metadata": {},
   "outputs": [],
   "source": [
    "by_division = students.groupby('division').count()"
   ]
  },
  {
   "cell_type": "code",
   "execution_count": 9,
   "metadata": {},
   "outputs": [
    {
     "data": {
      "text/html": [
       "<div>\n",
       "<style scoped>\n",
       "    .dataframe tbody tr th:only-of-type {\n",
       "        vertical-align: middle;\n",
       "    }\n",
       "\n",
       "    .dataframe tbody tr th {\n",
       "        vertical-align: top;\n",
       "    }\n",
       "\n",
       "    .dataframe thead th {\n",
       "        text-align: right;\n",
       "    }\n",
       "</style>\n",
       "<table border=\"1\" class=\"dataframe\">\n",
       "  <thead>\n",
       "    <tr style=\"text-align: right;\">\n",
       "      <th></th>\n",
       "      <th>lastname</th>\n",
       "      <th>firstname</th>\n",
       "      <th>boss</th>\n",
       "    </tr>\n",
       "    <tr>\n",
       "      <th>division</th>\n",
       "      <th></th>\n",
       "      <th></th>\n",
       "      <th></th>\n",
       "    </tr>\n",
       "  </thead>\n",
       "  <tbody>\n",
       "    <tr>\n",
       "      <td>Integrated Science &amp; Applications Branch</td>\n",
       "      <td>4</td>\n",
       "      <td>4</td>\n",
       "      <td>4</td>\n",
       "    </tr>\n",
       "    <tr>\n",
       "      <td>Satellite Ground System Division</td>\n",
       "      <td>2</td>\n",
       "      <td>2</td>\n",
       "      <td>2</td>\n",
       "    </tr>\n",
       "    <tr>\n",
       "      <td>Science Division</td>\n",
       "      <td>7</td>\n",
       "      <td>7</td>\n",
       "      <td>7</td>\n",
       "    </tr>\n",
       "  </tbody>\n",
       "</table>\n",
       "</div>"
      ],
      "text/plain": [
       "                                           lastname  firstname  boss\n",
       "division                                                            \n",
       " Integrated Science & Applications Branch         4          4     4\n",
       " Satellite Ground System Division                 2          2     2\n",
       " Science Division                                 7          7     7"
      ]
     },
     "execution_count": 9,
     "metadata": {},
     "output_type": "execute_result"
    }
   ],
   "source": [
    "by_division"
   ]
  },
  {
   "cell_type": "code",
   "execution_count": 10,
   "metadata": {},
   "outputs": [
    {
     "data": {
      "text/plain": [
       "pandas.core.frame.DataFrame"
      ]
     },
     "execution_count": 10,
     "metadata": {},
     "output_type": "execute_result"
    }
   ],
   "source": [
    "type(by_division)"
   ]
  },
  {
   "cell_type": "code",
   "execution_count": 12,
   "metadata": {},
   "outputs": [],
   "source": [
    "howard = students[students['boss'].str.contains('Howard')]"
   ]
  },
  {
   "cell_type": "markdown",
   "metadata": {},
   "source": [
    "# Who works for Danny Howard - I knew a Steve Howard"
   ]
  },
  {
   "cell_type": "code",
   "execution_count": 13,
   "metadata": {},
   "outputs": [
    {
     "data": {
      "text/html": [
       "<div>\n",
       "<style scoped>\n",
       "    .dataframe tbody tr th:only-of-type {\n",
       "        vertical-align: middle;\n",
       "    }\n",
       "\n",
       "    .dataframe tbody tr th {\n",
       "        vertical-align: top;\n",
       "    }\n",
       "\n",
       "    .dataframe thead th {\n",
       "        text-align: right;\n",
       "    }\n",
       "</style>\n",
       "<table border=\"1\" class=\"dataframe\">\n",
       "  <thead>\n",
       "    <tr style=\"text-align: right;\">\n",
       "      <th></th>\n",
       "      <th>lastname</th>\n",
       "      <th>firstname</th>\n",
       "      <th>boss</th>\n",
       "      <th>division</th>\n",
       "    </tr>\n",
       "  </thead>\n",
       "  <tbody>\n",
       "    <tr>\n",
       "      <td>0</td>\n",
       "      <td>Pastick</td>\n",
       "      <td>Neal (Contractor) J</td>\n",
       "      <td>Danny (Contractor) Howard</td>\n",
       "      <td>Science Division</td>\n",
       "    </tr>\n",
       "    <tr>\n",
       "      <td>2</td>\n",
       "      <td>Bunde</td>\n",
       "      <td>Brett (Contractor)</td>\n",
       "      <td>Danny (Contractor) Howard</td>\n",
       "      <td>Science Division</td>\n",
       "    </tr>\n",
       "    <tr>\n",
       "      <td>3</td>\n",
       "      <td>Danielson</td>\n",
       "      <td>Patrick (Contractor)</td>\n",
       "      <td>Danny (Contractor) Howard</td>\n",
       "      <td>Science Division</td>\n",
       "    </tr>\n",
       "    <tr>\n",
       "      <td>5</td>\n",
       "      <td>Dahal</td>\n",
       "      <td>Devendra (Contractor)</td>\n",
       "      <td>Danny (Contractor) Howard</td>\n",
       "      <td>Science Division</td>\n",
       "    </tr>\n",
       "  </tbody>\n",
       "</table>\n",
       "</div>"
      ],
      "text/plain": [
       "    lastname               firstname                        boss  \\\n",
       "0    Pastick     Neal (Contractor) J   Danny (Contractor) Howard   \n",
       "2      Bunde      Brett (Contractor)   Danny (Contractor) Howard   \n",
       "3  Danielson    Patrick (Contractor)   Danny (Contractor) Howard   \n",
       "5      Dahal   Devendra (Contractor)   Danny (Contractor) Howard   \n",
       "\n",
       "            division  \n",
       "0   Science Division  \n",
       "2   Science Division  \n",
       "3   Science Division  \n",
       "5   Science Division  "
      ]
     },
     "execution_count": 13,
     "metadata": {},
     "output_type": "execute_result"
    }
   ],
   "source": [
    "howard"
   ]
  },
  {
   "cell_type": "code",
   "execution_count": 17,
   "metadata": {},
   "outputs": [],
   "source": [
    "science_folks = students[students['division'].str.contains('Science')]"
   ]
  },
  {
   "cell_type": "code",
   "execution_count": 18,
   "metadata": {},
   "outputs": [
    {
     "data": {
      "text/html": [
       "<div>\n",
       "<style scoped>\n",
       "    .dataframe tbody tr th:only-of-type {\n",
       "        vertical-align: middle;\n",
       "    }\n",
       "\n",
       "    .dataframe tbody tr th {\n",
       "        vertical-align: top;\n",
       "    }\n",
       "\n",
       "    .dataframe thead th {\n",
       "        text-align: right;\n",
       "    }\n",
       "</style>\n",
       "<table border=\"1\" class=\"dataframe\">\n",
       "  <thead>\n",
       "    <tr style=\"text-align: right;\">\n",
       "      <th></th>\n",
       "      <th>lastname</th>\n",
       "      <th>firstname</th>\n",
       "      <th>boss</th>\n",
       "      <th>division</th>\n",
       "    </tr>\n",
       "  </thead>\n",
       "  <tbody>\n",
       "    <tr>\n",
       "      <td>0</td>\n",
       "      <td>Pastick</td>\n",
       "      <td>Neal (Contractor) J</td>\n",
       "      <td>Danny (Contractor) Howard</td>\n",
       "      <td>Science Division</td>\n",
       "    </tr>\n",
       "    <tr>\n",
       "      <td>2</td>\n",
       "      <td>Bunde</td>\n",
       "      <td>Brett (Contractor)</td>\n",
       "      <td>Danny (Contractor) Howard</td>\n",
       "      <td>Science Division</td>\n",
       "    </tr>\n",
       "    <tr>\n",
       "      <td>3</td>\n",
       "      <td>Danielson</td>\n",
       "      <td>Patrick (Contractor)</td>\n",
       "      <td>Danny (Contractor) Howard</td>\n",
       "      <td>Science Division</td>\n",
       "    </tr>\n",
       "    <tr>\n",
       "      <td>5</td>\n",
       "      <td>Dahal</td>\n",
       "      <td>Devendra (Contractor)</td>\n",
       "      <td>Danny (Contractor) Howard</td>\n",
       "      <td>Science Division</td>\n",
       "    </tr>\n",
       "    <tr>\n",
       "      <td>6</td>\n",
       "      <td>Wylie</td>\n",
       "      <td>Bruce K</td>\n",
       "      <td>Kristi Sayler</td>\n",
       "      <td>Integrated Science &amp; Applications Branch</td>\n",
       "    </tr>\n",
       "    <tr>\n",
       "      <td>7</td>\n",
       "      <td>Rover</td>\n",
       "      <td>Jennifer</td>\n",
       "      <td>Peter Doucette</td>\n",
       "      <td>Integrated Science &amp; Applications Branch</td>\n",
       "    </tr>\n",
       "    <tr>\n",
       "      <td>8</td>\n",
       "      <td>Zhou</td>\n",
       "      <td>Qiang (Contractor)</td>\n",
       "      <td>Ramesh (Contractor) Singh</td>\n",
       "      <td>Science Division</td>\n",
       "    </tr>\n",
       "    <tr>\n",
       "      <td>9</td>\n",
       "      <td>Rigge</td>\n",
       "      <td>Matthew B</td>\n",
       "      <td>Kristi Sayler</td>\n",
       "      <td>Integrated Science &amp; Applications Branch</td>\n",
       "    </tr>\n",
       "    <tr>\n",
       "      <td>10</td>\n",
       "      <td>Boyte</td>\n",
       "      <td>Stephen</td>\n",
       "      <td>Kristi Sayler</td>\n",
       "      <td>Integrated Science &amp; Applications Branch</td>\n",
       "    </tr>\n",
       "    <tr>\n",
       "      <td>11</td>\n",
       "      <td>Smith</td>\n",
       "      <td>Kelcy (Contractor) L</td>\n",
       "      <td>Ryan (Contractor) Reker</td>\n",
       "      <td>Science Division</td>\n",
       "    </tr>\n",
       "    <tr>\n",
       "      <td>12</td>\n",
       "      <td>Anthony</td>\n",
       "      <td>Michelle (Contractor) L</td>\n",
       "      <td>Calli (Contractor) Jenkerson</td>\n",
       "      <td>Science Division</td>\n",
       "    </tr>\n",
       "  </tbody>\n",
       "</table>\n",
       "</div>"
      ],
      "text/plain": [
       "     lastname                 firstname                           boss  \\\n",
       "0     Pastick       Neal (Contractor) J      Danny (Contractor) Howard   \n",
       "2       Bunde        Brett (Contractor)      Danny (Contractor) Howard   \n",
       "3   Danielson      Patrick (Contractor)      Danny (Contractor) Howard   \n",
       "5       Dahal     Devendra (Contractor)      Danny (Contractor) Howard   \n",
       "6       Wylie                   Bruce K                  Kristi Sayler   \n",
       "7       Rover                  Jennifer                 Peter Doucette   \n",
       "8        Zhou        Qiang (Contractor)      Ramesh (Contractor) Singh   \n",
       "9       Rigge                 Matthew B                  Kristi Sayler   \n",
       "10      Boyte                   Stephen                  Kristi Sayler   \n",
       "11      Smith      Kelcy (Contractor) L        Ryan (Contractor) Reker   \n",
       "12    Anthony   Michelle (Contractor) L   Calli (Contractor) Jenkerson   \n",
       "\n",
       "                                     division  \n",
       "0                            Science Division  \n",
       "2                            Science Division  \n",
       "3                            Science Division  \n",
       "5                            Science Division  \n",
       "6    Integrated Science & Applications Branch  \n",
       "7    Integrated Science & Applications Branch  \n",
       "8                            Science Division  \n",
       "9    Integrated Science & Applications Branch  \n",
       "10   Integrated Science & Applications Branch  \n",
       "11                           Science Division  \n",
       "12                           Science Division  "
      ]
     },
     "execution_count": 18,
     "metadata": {},
     "output_type": "execute_result"
    }
   ],
   "source": [
    "science_folks"
   ]
  },
  {
   "cell_type": "code",
   "execution_count": 19,
   "metadata": {},
   "outputs": [
    {
     "data": {
      "text/plain": [
       "11"
      ]
     },
     "execution_count": 19,
     "metadata": {},
     "output_type": "execute_result"
    }
   ],
   "source": [
    "len(science_folks)"
   ]
  },
  {
   "cell_type": "code",
   "execution_count": 20,
   "metadata": {},
   "outputs": [
    {
     "data": {
      "text/html": [
       "<div>\n",
       "<style scoped>\n",
       "    .dataframe tbody tr th:only-of-type {\n",
       "        vertical-align: middle;\n",
       "    }\n",
       "\n",
       "    .dataframe tbody tr th {\n",
       "        vertical-align: top;\n",
       "    }\n",
       "\n",
       "    .dataframe thead th {\n",
       "        text-align: right;\n",
       "    }\n",
       "</style>\n",
       "<table border=\"1\" class=\"dataframe\">\n",
       "  <thead>\n",
       "    <tr style=\"text-align: right;\">\n",
       "      <th></th>\n",
       "      <th>lastname</th>\n",
       "      <th>firstname</th>\n",
       "      <th>boss</th>\n",
       "    </tr>\n",
       "    <tr>\n",
       "      <th>division</th>\n",
       "      <th></th>\n",
       "      <th></th>\n",
       "      <th></th>\n",
       "    </tr>\n",
       "  </thead>\n",
       "  <tbody>\n",
       "    <tr>\n",
       "      <td>Integrated Science &amp; Applications Branch</td>\n",
       "      <td>4</td>\n",
       "      <td>4</td>\n",
       "      <td>4</td>\n",
       "    </tr>\n",
       "    <tr>\n",
       "      <td>Satellite Ground System Division</td>\n",
       "      <td>2</td>\n",
       "      <td>2</td>\n",
       "      <td>2</td>\n",
       "    </tr>\n",
       "    <tr>\n",
       "      <td>Science Division</td>\n",
       "      <td>7</td>\n",
       "      <td>7</td>\n",
       "      <td>7</td>\n",
       "    </tr>\n",
       "  </tbody>\n",
       "</table>\n",
       "</div>"
      ],
      "text/plain": [
       "                                           lastname  firstname  boss\n",
       "division                                                            \n",
       " Integrated Science & Applications Branch         4          4     4\n",
       " Satellite Ground System Division                 2          2     2\n",
       " Science Division                                 7          7     7"
      ]
     },
     "execution_count": 20,
     "metadata": {},
     "output_type": "execute_result"
    }
   ],
   "source": [
    "by_division"
   ]
  },
  {
   "cell_type": "markdown",
   "metadata": {},
   "source": [
    "# Plot the classes of students using boss"
   ]
  },
  {
   "cell_type": "code",
   "execution_count": 22,
   "metadata": {},
   "outputs": [],
   "source": [
    "boss_by_division = by_division['boss']"
   ]
  },
  {
   "cell_type": "code",
   "execution_count": 23,
   "metadata": {},
   "outputs": [
    {
     "data": {
      "text/plain": [
       "division\n",
       " Integrated Science & Applications Branch    4\n",
       " Satellite Ground System Division            2\n",
       " Science Division                            7\n",
       "Name: boss, dtype: int64"
      ]
     },
     "execution_count": 23,
     "metadata": {},
     "output_type": "execute_result"
    }
   ],
   "source": [
    "boss_by_division"
   ]
  },
  {
   "cell_type": "code",
   "execution_count": 29,
   "metadata": {},
   "outputs": [
    {
     "data": {
      "text/plain": [
       "<matplotlib.axes._subplots.AxesSubplot at 0x7ff0481e4910>"
      ]
     },
     "execution_count": 29,
     "metadata": {},
     "output_type": "execute_result"
    },
    {
     "data": {
      "image/png": "[encoded data removed]",
      "text/plain": [
       "<Figure size 432x288 with 1 Axes>"
      ]
     },
     "metadata": {},
     "output_type": "display_data"
    }
   ],
   "source": [
    "boss_by_division.plot.pie(autopct='%1.1f%%', shadow = True)"
   ]
  },
  {
   "cell_type": "code",
   "execution_count": 30,
   "metadata": {},
   "outputs": [
    {
     "data": {
      "text/plain": [
       "<matplotlib.axes._subplots.AxesSubplot at 0x7ff048956950>"
      ]
     },
     "execution_count": 30,
     "metadata": {},
     "output_type": "execute_result"
    },
    {
     "data": {
      "image/png": "[encoded data removed]",
      "text/plain": [
       "<Figure size 432x288 with 1 Axes>"
      ]
     },
     "metadata": {
      "needs_background": "light"
     },
     "output_type": "display_data"
    }
   ],
   "source": [
    "boss_by_division.plot.bar()"
   ]
  },
  {
   "cell_type": "markdown",
   "metadata": {},
   "source": [
    "# Improve the colors"
   ]
  },
  {
   "cell_type": "code",
   "execution_count": 37,
   "metadata": {},
   "outputs": [],
   "source": [
    "from itertools import islice\n",
    "from itertools import cycle\n",
    "my_colors =  list(islice(cycle(['b', 'r', 'g', 'y', 'k']),None,len(boss_by_division)))"
   ]
  },
  {
   "cell_type": "code",
   "execution_count": 40,
   "metadata": {},
   "outputs": [
    {
     "data": {
      "text/plain": [
       "<matplotlib.axes._subplots.AxesSubplot at 0x7ff0480c3490>"
      ]
     },
     "execution_count": 40,
     "metadata": {},
     "output_type": "execute_result"
    },
    {
     "data": {
      "image/png": "[encoded data removed]",
      "text/plain": [
       "<Figure size 432x288 with 1 Axes>"
      ]
     },
     "metadata": {
      "needs_background": "light"
     },
     "output_type": "display_data"
    }
   ],
   "source": [
    "boss_by_division.plot(title='boss by division', kind='bar', stacked=True, color=my_colors)"
   ]
  },
  {
   "cell_type": "code",
   "execution_count": 41,
   "metadata": {},
   "outputs": [],
   "source": [
    "sayler = students[students['boss'].str.contains('Sayler')]"
   ]
  },
  {
   "cell_type": "code",
   "execution_count": 42,
   "metadata": {},
   "outputs": [
    {
     "data": {
      "text/html": [
       "<div>\n",
       "<style scoped>\n",
       "    .dataframe tbody tr th:only-of-type {\n",
       "        vertical-align: middle;\n",
       "    }\n",
       "\n",
       "    .dataframe tbody tr th {\n",
       "        vertical-align: top;\n",
       "    }\n",
       "\n",
       "    .dataframe thead th {\n",
       "        text-align: right;\n",
       "    }\n",
       "</style>\n",
       "<table border=\"1\" class=\"dataframe\">\n",
       "  <thead>\n",
       "    <tr style=\"text-align: right;\">\n",
       "      <th></th>\n",
       "      <th>lastname</th>\n",
       "      <th>firstname</th>\n",
       "      <th>boss</th>\n",
       "      <th>division</th>\n",
       "    </tr>\n",
       "  </thead>\n",
       "  <tbody>\n",
       "    <tr>\n",
       "      <td>6</td>\n",
       "      <td>Wylie</td>\n",
       "      <td>Bruce K</td>\n",
       "      <td>Kristi Sayler</td>\n",
       "      <td>Integrated Science &amp; Applications Branch</td>\n",
       "    </tr>\n",
       "    <tr>\n",
       "      <td>9</td>\n",
       "      <td>Rigge</td>\n",
       "      <td>Matthew B</td>\n",
       "      <td>Kristi Sayler</td>\n",
       "      <td>Integrated Science &amp; Applications Branch</td>\n",
       "    </tr>\n",
       "    <tr>\n",
       "      <td>10</td>\n",
       "      <td>Boyte</td>\n",
       "      <td>Stephen</td>\n",
       "      <td>Kristi Sayler</td>\n",
       "      <td>Integrated Science &amp; Applications Branch</td>\n",
       "    </tr>\n",
       "  </tbody>\n",
       "</table>\n",
       "</div>"
      ],
      "text/plain": [
       "   lastname   firstname            boss  \\\n",
       "6     Wylie     Bruce K   Kristi Sayler   \n",
       "9     Rigge   Matthew B   Kristi Sayler   \n",
       "10    Boyte     Stephen   Kristi Sayler   \n",
       "\n",
       "                                     division  \n",
       "6    Integrated Science & Applications Branch  \n",
       "9    Integrated Science & Applications Branch  \n",
       "10   Integrated Science & Applications Branch  "
      ]
     },
     "execution_count": 42,
     "metadata": {},
     "output_type": "execute_result"
    }
   ],
   "source": [
    "sayler"
   ]
  },
  {
   "cell_type": "code",
   "execution_count": 43,
   "metadata": {},
   "outputs": [
    {
     "name": "stdout",
     "output_type": "stream",
     "text": [
      "0       Pastick\n",
      "1        Postma\n",
      "2         Bunde\n",
      "3     Danielson\n",
      "4        Butzer\n",
      "5         Dahal\n",
      "6         Wylie\n",
      "7         Rover\n",
      "8          Zhou\n",
      "9         Rigge\n",
      "10        Boyte\n",
      "11        Smith\n",
      "12      Anthony\n",
      "Name: lastname, dtype: object\n"
     ]
    }
   ],
   "source": [
    "print(students['lastname'])"
   ]
  },
  {
   "cell_type": "code",
   "execution_count": 44,
   "metadata": {},
   "outputs": [
    {
     "data": {
      "text/plain": [
       "0       Pastick\n",
       "1        Postma\n",
       "2         Bunde\n",
       "3     Danielson\n",
       "4        Butzer\n",
       "5         Dahal\n",
       "6         Wylie\n",
       "7         Rover\n",
       "8          Zhou\n",
       "9         Rigge\n",
       "10        Boyte\n",
       "11        Smith\n",
       "12      Anthony\n",
       "Name: lastname, dtype: object"
      ]
     },
     "execution_count": 44,
     "metadata": {},
     "output_type": "execute_result"
    }
   ],
   "source": [
    "lastname = students['lastname']\n",
    "lastname"
   ]
  },
  {
   "cell_type": "code",
   "execution_count": 45,
   "metadata": {},
   "outputs": [],
   "source": [
    "lastname_no_indices = lastname.to_string(index=False)"
   ]
  },
  {
   "cell_type": "code",
   "execution_count": 47,
   "metadata": {},
   "outputs": [
    {
     "name": "stdout",
     "output_type": "stream",
     "text": [
      "   Pastick\n",
      "    Postma\n",
      "     Bunde\n",
      " Danielson\n",
      "    Butzer\n",
      "     Dahal\n",
      "     Wylie\n",
      "     Rover\n",
      "      Zhou\n",
      "     Rigge\n",
      "     Boyte\n",
      "     Smith\n",
      "   Anthony\n"
     ]
    }
   ],
   "source": [
    "print(lastname_no_indices)"
   ]
  },
  {
   "cell_type": "code",
   "execution_count": 51,
   "metadata": {},
   "outputs": [
    {
     "name": "stdout",
     "output_type": "stream",
     "text": [
      "<class 'str'>\n",
      "<class 'str'>\n",
      "<class 'str'>\n",
      "<class 'str'>\n",
      "<class 'str'>\n",
      "<class 'str'>\n",
      "<class 'str'>\n",
      "<class 'str'>\n",
      "<class 'str'>\n",
      "<class 'str'>\n",
      "<class 'str'>\n",
      "<class 'str'>\n",
      "<class 'str'>\n",
      "<class 'str'>\n",
      "<class 'str'>\n",
      "<class 'str'>\n",
      "<class 'str'>\n",
      "<class 'str'>\n",
      "<class 'str'>\n",
      "<class 'str'>\n",
      "<class 'str'>\n",
      "<class 'str'>\n",
      "<class 'str'>\n",
      "<class 'str'>\n",
      "<class 'str'>\n",
      "<class 'str'>\n",
      "<class 'str'>\n",
      "<class 'str'>\n",
      "<class 'str'>\n",
      "<class 'str'>\n",
      "<class 'str'>\n",
      "<class 'str'>\n",
      "<class 'str'>\n",
      "<class 'str'>\n",
      "<class 'str'>\n",
      "<class 'str'>\n",
      "<class 'str'>\n",
      "<class 'str'>\n",
      "<class 'str'>\n",
      "<class 'str'>\n",
      "<class 'str'>\n",
      "<class 'str'>\n",
      "<class 'str'>\n",
      "<class 'str'>\n",
      "<class 'str'>\n",
      "<class 'str'>\n",
      "<class 'str'>\n",
      "<class 'str'>\n",
      "<class 'str'>\n",
      "<class 'str'>\n",
      "<class 'str'>\n",
      "<class 'str'>\n",
      "<class 'str'>\n",
      "<class 'str'>\n",
      "<class 'str'>\n",
      "<class 'str'>\n",
      "<class 'str'>\n",
      "<class 'str'>\n",
      "<class 'str'>\n",
      "<class 'str'>\n",
      "<class 'str'>\n",
      "<class 'str'>\n",
      "<class 'str'>\n",
      "<class 'str'>\n",
      "<class 'str'>\n",
      "<class 'str'>\n",
      "<class 'str'>\n",
      "<class 'str'>\n",
      "<class 'str'>\n",
      "<class 'str'>\n",
      "<class 'str'>\n",
      "<class 'str'>\n",
      "<class 'str'>\n",
      "<class 'str'>\n",
      "<class 'str'>\n",
      "<class 'str'>\n",
      "<class 'str'>\n",
      "<class 'str'>\n",
      "<class 'str'>\n",
      "<class 'str'>\n",
      "<class 'str'>\n",
      "<class 'str'>\n",
      "<class 'str'>\n",
      "<class 'str'>\n",
      "<class 'str'>\n",
      "<class 'str'>\n",
      "<class 'str'>\n",
      "<class 'str'>\n",
      "<class 'str'>\n",
      "<class 'str'>\n",
      "<class 'str'>\n",
      "<class 'str'>\n",
      "<class 'str'>\n",
      "<class 'str'>\n",
      "<class 'str'>\n",
      "<class 'str'>\n",
      "<class 'str'>\n",
      "<class 'str'>\n",
      "<class 'str'>\n",
      "<class 'str'>\n",
      "<class 'str'>\n",
      "<class 'str'>\n",
      "<class 'str'>\n",
      "<class 'str'>\n",
      "<class 'str'>\n",
      "<class 'str'>\n",
      "<class 'str'>\n",
      "<class 'str'>\n",
      "<class 'str'>\n",
      "<class 'str'>\n",
      "<class 'str'>\n",
      "<class 'str'>\n",
      "<class 'str'>\n",
      "<class 'str'>\n",
      "<class 'str'>\n",
      "<class 'str'>\n",
      "<class 'str'>\n",
      "<class 'str'>\n",
      "<class 'str'>\n",
      "<class 'str'>\n",
      "<class 'str'>\n",
      "<class 'str'>\n",
      "<class 'str'>\n",
      "<class 'str'>\n",
      "<class 'str'>\n",
      "<class 'str'>\n",
      "<class 'str'>\n",
      "<class 'str'>\n",
      "<class 'str'>\n",
      "<class 'str'>\n",
      "<class 'str'>\n",
      "<class 'str'>\n",
      "<class 'str'>\n",
      "<class 'str'>\n",
      "<class 'str'>\n",
      "<class 'str'>\n",
      "<class 'str'>\n",
      "<class 'str'>\n",
      "<class 'str'>\n",
      "<class 'str'>\n",
      "<class 'str'>\n",
      "<class 'str'>\n"
     ]
    }
   ],
   "source": [
    "for name in lastname_no_indices:\n",
    "    print(type(name))"
   ]
  },
  {
   "cell_type": "code",
   "execution_count": 53,
   "metadata": {},
   "outputs": [
    {
     "data": {
      "text/plain": [
       "str"
      ]
     },
     "execution_count": 53,
     "metadata": {},
     "output_type": "execute_result"
    }
   ],
   "source": [
    "type(lastname_no_indices)"
   ]
  },
  {
   "cell_type": "code",
   "execution_count": 57,
   "metadata": {},
   "outputs": [
    {
     "name": "stdout",
     "output_type": "stream",
     "text": [
      "   pastick\n",
      "    postma\n",
      "     bunde\n",
      " danielson\n",
      "    butzer\n",
      "     dahal\n",
      "     wylie\n",
      "     rover\n",
      "      zhou\n",
      "     rigge\n",
      "     boyte\n",
      "     smith\n",
      "   anthony\n"
     ]
    }
   ],
   "source": [
    "for i in lastname_no_indices.split('\\n'):\n",
    "    #print(i)\n",
    "    i = i.lower()\n",
    "    print(i)"
   ]
  },
  {
   "cell_type": "code",
   "execution_count": null,
   "metadata": {},
   "outputs": [],
   "source": []
  }
 ],
 "metadata": {
  "kernelspec": {
   "display_name": "Python 3",
   "language": "python",
   "name": "python3"
  },
  "language_info": {
   "codemirror_mode": {
    "name": "ipython",
    "version": 3
   },
   "file_extension": ".py",
   "mimetype": "text/x-python",
   "name": "python",
   "nbconvert_exporter": "python",
   "pygments_lexer": "ipython3",
   "version": "3.7.4"
  }
 },
 "nbformat": 4,
 "nbformat_minor": 2
}
